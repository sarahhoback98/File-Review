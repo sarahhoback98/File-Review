{
 "cells": [
  {
   "cell_type": "code",
   "execution_count": 1,
   "metadata": {},
   "outputs": [],
   "source": [
    "#login to CEmobility"
   ]
  },
  {
   "cell_type": "code",
   "execution_count": 2,
   "metadata": {},
   "outputs": [],
   "source": [
    "#search for function in CE mobility with an FA number - $50"
   ]
  },
  {
   "cell_type": "code",
   "execution_count": 3,
   "metadata": {},
   "outputs": [],
   "source": [
    "#Find the Title document-$100\n",
    "#step one sort from assending date lowest to highest\n",
    "#auto scroll until the word Title is contained in the the name of one of the files\n",
    "#download the copy as an origional"
   ]
  },
  {
   "cell_type": "code",
   "execution_count": 4,
   "metadata": {},
   "outputs": [],
   "source": [
    "#Find the Leasing Review document-$100\n",
    "#step one sort from assending date highest to lowest\n",
    "#auto scroll until the word lease review, or lease advice is contained in the the name of one of the files, \n",
    "#and is an excel\n",
    "#download the copy as an origional"
   ]
  },
  {
   "cell_type": "code",
   "execution_count": 5,
   "metadata": {},
   "outputs": [],
   "source": [
    "#$200\n",
    "#Document search through a folder to identify which document has the word lease data sheet\n",
    "#step one, make the pdf readable\n",
    "#step 2, parse through the readable pdf to find the \n",
    "#lease expiration date, lease term, lessor legal name, current lesse legal name. \n",
    "#store as a list\n",
    "#if the Payable to line is different than the current lessor legal name then an additional\n",
    "#element to the list , 'DBA' and put the different name here\n",
    "\n",
    "\n",
    "#identify which have the name Lease Data Sheet"
   ]
  },
  {
   "cell_type": "code",
   "execution_count": null,
   "metadata": {},
   "outputs": [],
   "source": [
    "#$1000\n",
    "#Document search through a the rest of the documents in a folder that are not the lease data sheet\n",
    "#step one, make them readable\n",
    "#step 2, parse through the readable pdf to find the \n",
    "#amount paid per month, increase by what percent annually,\n",
    "# and square feet of the premises\n",
    "#note you may have to be tricky about which key words can be used here\n",
    "#perhaps you can also loop in searching through the Lease Review document\n",
    "#to get a base of these elements before you parse through the documents\n",
    "#as you go through the documents to find this imformation yeild to the largest number \n",
    "#found. if the information is not available then show nothing\n",
    "\n"
   ]
  }
 ],
 "metadata": {
  "kernelspec": {
   "display_name": "Python 3",
   "language": "python",
   "name": "python3"
  },
  "language_info": {
   "codemirror_mode": {
    "name": "ipython",
    "version": 3
   },
   "file_extension": ".py",
   "mimetype": "text/x-python",
   "name": "python",
   "nbconvert_exporter": "python",
   "pygments_lexer": "ipython3",
   "version": "3.7.3"
  }
 },
 "nbformat": 4,
 "nbformat_minor": 2
}
