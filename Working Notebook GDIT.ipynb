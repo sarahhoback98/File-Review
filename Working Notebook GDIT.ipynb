{
 "cells": [
  {
   "cell_type": "code",
   "execution_count": 1,
   "metadata": {},
   "outputs": [],
   "source": [
    "from selenium import webdriver\n",
    "from selenium.webdriver.support.ui import WebDriverWait\n",
    "from selenium.webdriver.common.keys import Keys\n",
    "from selenium.webdriver.support.ui import Select\n",
    "from selenium.webdriver.common.action_chains import ActionChains\n",
    "import time\n",
    "import pandas as pd\n",
    "# Step 1) Open Chrome\n",
    "browser = webdriver.Chrome()\n",
    "# Step 2) Navigate to Facebook\n",
    "#reads the GD tracker and thaeles tracker to find which sites need to have forms automatically\n",
    "#generated. It finds the FA number of the sites on the Thaeles tracker \n",
    "# that are New Site 7/1/21 in the subbed for review column, and then finds the corresponding\n",
    "#Charge Code for those sites\n",
    "thaeles = \"thaeles_tracker.csv\"\n",
    "df = pd.read_csv(thaeles, usecols = ['FA #','SITE NAME','Subbed for Review'])\n",
    "\n",
    "sites_ok_submit_weekly = \"july23rd_sites.csv\"\n",
    "sites_list_july23 = pd.read_csv(sites_ok_submit_weekly, usecols = ['FA #'])\n",
    "\n",
    "gd = \"gd_tracker.csv\"\n",
    "df1 = pd.read_csv(gd, usecols = ['P:Project Key (Charge Code or PACE ID)','S:FA Number','S:Site Name','S:Address Line 1','S:City','S:State','S:ZIP'])\n",
    "    #goes through the thaeles tracker to find the sites that need to have forms generated. \n",
    "    #It does this by looking in the subbed for view column and finding new sites\n",
    "FA_Sites_That_Need_Forms= []\n",
    "for i in range (1,207):\n",
    "    if (df['Subbed for Review'][i] == 'New Site 7/1/21'):\n",
    "        FA_Sites_That_Need_Forms.append(df['FA #'][i])\n",
    "    #goes through the GD one tracker to find the corresponding charge code number to the sites\n",
    "    #found using FA Sites that need forms function. The contents of this array eventually are\n",
    "    #going to be plugged into the FormGenerator file#\n",
    "ChargeCodeFinderforForms= []\n",
    "for j in range (0,264):\n",
    "    for i in range (0,len(FA_Sites_That_Need_Forms)):\n",
    "        if (FA_Sites_That_Need_Forms[i] == df1['S:FA Number'][j]):\n",
    "            ChargeCodeFinderforForms.append(df1['P:Project Key (Charge Code or PACE ID)'][j])\n",
    "#find the charge code, and site name given an FA number\n",
    "window_origional = browser.window_handles[0]\n",
    "browser.switch_to_window(window_origional)\n",
    "#find the charge code, and site name given an FA number\n",
    "array_FA_Site_name_Charge_Code=[]                                              "
   ]
  },
  {
   "cell_type": "code",
   "execution_count": 2,
   "metadata": {},
   "outputs": [],
   "source": [
    "def ListofChargeCode_SiteName_andFA (chargecode):\n",
    "    array_FA_Site_name_Charge_Code.clear()\n",
    "    for j in range (0,len(df1)):\n",
    "        if (df1['P:Project Key (Charge Code or PACE ID)'][j]== chargecode):\n",
    "            array_FA_Site_name_Charge_Code.append((df1['P:Project Key (Charge Code or PACE ID)'][j],\n",
    "                                                   df1['S:FA Number'][j], df1['S:Site Name'][j],df1['S:Address Line 1'][j],\n",
    "                                                 df1['S:City'][j],df1['S:State'][j],df1['S:ZIP'][j]))\n",
    "def login():\n",
    "    browser.get(\"https://gd.onevizion.com/Login.do\")\n",
    "    # Step 3) Search & Enter the Email or Phone field & Enter Password\n",
    "    username = browser.find_element_by_id(\"username\")\n",
    "    password = browser.find_element_by_id(\"password\")\n",
    "    submit   = browser.find_element_by_id(\"btn\")\n",
    "    username.send_keys(\"henry@thaelesinc.com\")\n",
    "    password.send_keys(\"Gravity981*\")\n",
    "    # Step 4) Click Login\n",
    "    submit.click()\n",
    "    time.sleep(15)\n",
    "    # Step 5) get it to the list of projects\n",
    "    firststep = browser.find_element_by_id(\"mainLogo\")\n",
    "    time.sleep(7)\n",
    "    firststep.click()\n",
    "    openprojectlist = browser.find_element_by_id(\"itemMenu_10017715_10020705\")\n",
    "    openprojectlist.click()\n",
    "    \n",
    "def searchByChargeCode(chargecode):\n",
    "#searches the project page for the charge code. Selects the charge code search term and\n",
    "#then searches for the charge code in the search box. We did this to bypass having to scroll\n",
    "#and click through multiple pages to find elements\n",
    "    searchByChargeCode = browser.find_element_by_id('qsField0')\n",
    "    searchByChargeCode.click()\n",
    "    clickonSearch = browser.find_element_by_id(\"qsValue0\")\n",
    "    clickonSearch.send_keys(Keys.ENTER)\n",
    "    clickonSearch.send_keys(Keys.CONTROL, 'a')\n",
    "    length = len(clickonSearch.get_attribute('value'))\n",
    "    clickonSearch.send_keys(length*Keys.BACKSPACE)\n",
    "    clickonSearch.send_keys(chargecode)\n",
    "    \n",
    "\n",
    "def CreateInFormTab(chargecode):\n",
    "    #Creates a form given a charge code and inputs the basic values needed to instantiate a form\n",
    "    chargeCode=browser.find_element_by_link_text( chargecode )\n",
    "    chargeCode.click()\n",
    "    window_after = browser.window_handles[1]\n",
    "    browser.switch_to_window(window_after)\n",
    "    clickonform = browser.find_element_by_id(\"tab10\")\n",
    "    clickonform.click()\n",
    "    time.sleep(7)\n",
    "    addform = browser.find_element_by_id(\"btnAdd10\")\n",
    "    addform.click()\n",
    "            #creating a form\n",
    "    window_after1 = browser.window_handles[2]\n",
    "    browser.switch_to_window(window_after1)\n",
    "    #fills in the bare bones of a form to generate a form\n",
    "    vendor= browser.find_element_by_id(\"idx6_disp\")\n",
    "    gen12 = browser.find_element_by_id(\"idx12\")\n",
    "    formsubmitedby   = browser.find_element_by_id(\"idx14_disp\")\n",
    "    primaryrev   = browser.find_element_by_id(\"idx19_disp\")\n",
    "    secondaryrev   = browser.find_element_by_id(\"idx20_disp\")\n",
    "    vendor.send_keys(\"1282 (BRIUS TELECOM SOLUTIONS LLC)\")\n",
    "    vendor.send_keys(Keys.ENTER)\n",
    "    formsubmitedby.send_keys(\"henry@thaelesinc.com\")\n",
    "    formsubmitedby.send_keys(Keys.ENTER)\n",
    "    primaryrev.send_keys(\"Brian.Gullen@gdit.com\")\n",
    "    primaryrev.send_keys(Keys.ENTER)\n",
    "    secondaryrev.send_keys(\"Melissa.Martins@gdit.com\")\n",
    "    secondaryrev.send_keys(Keys.ENTER)\n",
    "    gen12.click()\n",
    "    select = Select(browser.find_element_by_id('idx12'))\n",
    "    select.select_by_value('10012143')\n",
    "    #clicking on the OK button to close out the form\n",
    "    submitbuttonform= browser.find_element_by_id(\"btnOK\")\n",
    "    submitbuttonform.click()\n",
    "    browser.switch_to_window(window_after)\n",
    "    #closes back to origional project\n",
    "    submitbuttonform1= browser.find_element_by_id(\"btnOK\")\n",
    "    submitbuttonform1.click()\n",
    "def projectpage():\n",
    "    first_window =browser.window_handles[0]\n",
    "    browser.switch_to_window(first_window)\n",
    "    firststep = browser.find_element_by_id(\"mainLogo\")\n",
    "    time.sleep(7)\n",
    "    firststep.click()\n",
    "    openprojectlist = browser.find_element_by_id(\"itemMenu_10017715_10020705\")\n",
    "    openprojectlist.click()\n",
    "    \n",
    "def fillinvalues(chargecode):\n",
    "    ActionChains(browser).move_to_element(browser.find_element_by_id('idx56')).perform()\n",
    "    filerev   = browser.find_element_by_id(\"idx56\")\n",
    "    \n",
    "    filerev.send_keys(Keys.CONTROL, 'a')\n",
    "    length = len(filerev.get_attribute('value'))\n",
    "    filerev.send_keys(length*Keys.BACKSPACE)\n",
    "    \n",
    "    filerev.send_keys(\"Henry French\")\n",
    "    filerev.send_keys(Keys.ENTER)\n",
    "    #input Natural Gas Provider \n",
    "    ActionChains(browser).move_to_element(browser.find_element_by_id('idx69')).perform()\n",
    "    natgas2   = browser.find_element_by_id(\"idx69\")\n",
    "    \n",
    "    natgas2.send_keys(Keys.CONTROL, 'a')\n",
    "    length1 = len(natgas2.get_attribute('value'))\n",
    "    natgas2.send_keys(length1*Keys.BACKSPACE)\n",
    "    \n",
    "    natgas2.send_keys(\"N/A\")\n",
    "    natgas2.send_keys(Keys.ENTER)\n",
    "    #input Proposed Generator lease spease \n",
    "    ActionChains(browser).move_to_element(browser.find_element_by_id('idx71')).perform()\n",
    "    propleasespace   = browser.find_element_by_id(\"idx71\")\n",
    "    \n",
    "    propleasespace.send_keys(Keys.CONTROL, 'a')\n",
    "    length2 = len(propleasespace.get_attribute('value'))\n",
    "    propleasespace.send_keys(length2*Keys.BACKSPACE)\n",
    "    \n",
    "    propleasespace.send_keys(\"4'x10'+ concrete pad\")\n",
    "    propleasespace.send_keys(Keys.ENTER)\n",
    "    #input MLA/SLA available\n",
    "    ActionChains(browser).move_to_element(browser.find_element_by_id('idx89')).perform()\n",
    "    mlasla = browser.find_element_by_id(\"idx89\")\n",
    "    mlasla.click()\n",
    "    select2 = Select(browser.find_element_by_id('idx89'))\n",
    "    select2.select_by_value('10019358')\n",
    "    mlasla.send_keys(Keys.ENTER)\n",
    "    #input Lease Doc. Available\n",
    "    ActionChains(browser).move_to_element(browser.find_element_by_id('idx91')).perform()\n",
    "    docavail = browser.find_element_by_id(\"idx91\")\n",
    "    docavail.click()\n",
    "    select3 = Select(browser.find_element_by_id('idx91'))\n",
    "    select3.select_by_value('10019358')\n",
    "    docavail.send_keys(Keys.ENTER)\n",
    "    #input Proposed Generator lease spease \n",
    "    ActionChains(browser).move_to_element(browser.find_element_by_id('idx108')).perform()\n",
    "    leasefees   = browser.find_element_by_id(\"idx108\")\n",
    "    \n",
    "    leasefees.send_keys(Keys.CONTROL, 'a')\n",
    "    length3 = len(leasefees.get_attribute('value'))\n",
    "    leasefees.send_keys(length3*Keys.BACKSPACE)\n",
    "    \n",
    "    leasefees.send_keys(\"TBD\")\n",
    "    leasefees.send_keys(Keys.ENTER)\n",
    "    #Leade Doc Comments\n",
    "    ActionChains(browser).move_to_element(browser.find_element_by_id('idx92')).perform()\n",
    "    leasedoccom   = browser.find_element_by_id(\"idx92\")\n",
    "    \n",
    "    leasedoccom.send_keys(Keys.CONTROL, 'a')\n",
    "    length4 = len(leasedoccom.get_attribute('value'))\n",
    "    leasedoccom.send_keys(length4*Keys.BACKSPACE)\n",
    "    \n",
    "    leasedoccom.send_keys(\"SLA + LDS\")\n",
    "    leasedoccom.send_keys(Keys.ENTER)\n",
    "    #lease Sketch, N/A\n",
    "    ActionChains(browser).move_to_element(browser.find_element_by_id('idx97')).perform()\n",
    "    leasesketch   = browser.find_element_by_id(\"idx97\")\n",
    "    \n",
    "    leasesketch.send_keys(Keys.CONTROL, 'a')\n",
    "    length5 = len(leasesketch.get_attribute('value'))\n",
    "    leasesketch.send_keys(length5*Keys.BACKSPACE)\n",
    "    \n",
    "    leasesketch.send_keys(\"N/A\")\n",
    "    leasesketch.send_keys(Keys.ENTER)\n",
    "    #title comments, no survey available\n",
    "    ActionChains(browser).move_to_element(browser.find_element_by_id('idx101')).perform()\n",
    "    titleCom   = browser.find_element_by_id(\"idx101\")\n",
    "    \n",
    "    titleCom.send_keys(Keys.CONTROL, 'a')\n",
    "    length6 = len(titleCom.get_attribute('value'))\n",
    "    titleCom.send_keys(length6*Keys.BACKSPACE)\n",
    "    \n",
    "    titleCom.send_keys(\"no survey available\")\n",
    "    titleCom.send_keys(Keys.ENTER)\n",
    "    ListofChargeCode_SiteName_andFA(chargecode)\n",
    "    #inputFAnumber\n",
    "    favar=str(array_FA_Site_name_Charge_Code[0][1])\n",
    "    ActionChains(browser).move_to_element(browser.find_element_by_id('idx48')).perform()\n",
    "    fanumber   = browser.find_element_by_id(\"idx48\")\n",
    "    \n",
    "    fanumber.send_keys(Keys.CONTROL, 'a')\n",
    "    length7 = len(fanumber.get_attribute('value'))\n",
    "    fanumber.send_keys(length7*Keys.BACKSPACE)\n",
    "    \n",
    "    fanumber.send_keys(favar)\n",
    "    fanumber.send_keys(Keys.ENTER)\n",
    "    sitevar=str(array_FA_Site_name_Charge_Code[0][2])\n",
    "    #inputsitenumber\n",
    "    ActionChains(browser).move_to_element(browser.find_element_by_id('idx50')).perform()\n",
    "    sitenumber   = browser.find_element_by_id(\"idx50\")\n",
    "    \n",
    "    sitenumber.send_keys(Keys.CONTROL, 'a')\n",
    "    length8 = len(sitenumber.get_attribute('value'))\n",
    "    sitenumber.send_keys(length8*Keys.BACKSPACE)\n",
    "    \n",
    "    sitenumber.send_keys(sitevar)\n",
    "    sitenumber.send_keys(Keys.ENTER)\n",
    "    #input address line one\n",
    "    addyvar= str(array_FA_Site_name_Charge_Code[0][3])\n",
    "    ActionChains(browser).move_to_element(browser.find_element_by_id('idx52')).perform()\n",
    "    addy1   = browser.find_element_by_id(\"idx52\")\n",
    "    \n",
    "    addy1.send_keys(Keys.CONTROL, 'a')\n",
    "    length9 = len(addy1.get_attribute('value'))\n",
    "    addy1.send_keys(length9*Keys.BACKSPACE)\n",
    "    \n",
    "    addy1.send_keys(addyvar)\n",
    "    addy1.send_keys(Keys.ENTER)\n",
    "    #input address line 2\n",
    "    addyvar2= str(array_FA_Site_name_Charge_Code[0][4]), str( array_FA_Site_name_Charge_Code[0][5]), str( array_FA_Site_name_Charge_Code[0][6])\n",
    "    addyvar2final= addyvar2[0]+\" , \"+ addyvar2[1]+\" \"+ addyvar2[2]\n",
    "    ActionChains(browser).move_to_element(browser.find_element_by_id('idx54')).perform()\n",
    "    addy2   = browser.find_element_by_id(\"idx54\")\n",
    "    \n",
    "    addy2.send_keys(Keys.CONTROL, 'a')\n",
    "    length10 = len(addy2.get_attribute('value'))\n",
    "    addy2.send_keys(length10*Keys.BACKSPACE)\n",
    "    \n",
    "    addy2.send_keys(addyvar2final)\n",
    "    addy2.send_keys(Keys.ENTER)\n",
    "\n",
    "    clickok_onform = browser.find_element_by_id(\"btnOK\")\n",
    "    clickok_onform.click()\n",
    "    clickok_onform.click()\n",
    "    browser.switch_to_window(browser.window_handles[1])\n",
    "    clickok_onform = browser.find_element_by_id(\"btnOK\")\n",
    "    clickok_onform.click()\n",
    "    browser.switch_to_window(window_origional)\n",
    "\n",
    "def ChargeCodeEnter():\n",
    "#searches the project page for the charge code. Selects the charge code search term and\n",
    "#then searches for the charge code in the search box. We did this to bypass having to scroll\n",
    "#and click through multiple pages to find elements\n",
    "    searchcode = browser.find_element_by_id(\"qsValue0\")\n",
    "    searchcode.send_keys(Keys.ENTER)\n",
    "def fillInTopofFormTab(chargecode):\n",
    "    #Creates a form given a charge code and inputs the basic values needed to instantiate a form\n",
    "    chargeCode=browser.find_element_by_link_text(array_chargecode_excel[0] )\n",
    "    chargeCode.click()\n",
    "    window_after = browser.window_handles[1]\n",
    "    browser.switch_to_window(window_after)\n",
    "    clickonform = browser.find_element_by_id(\"tab10\")\n",
    "    clickonform.click()\n",
    "    time.sleep(7)\n",
    "    editform = browser.find_element_by_id(\"btnEdit10\")\n",
    "    editform.click()\n",
    "            #opening the form to edit\n",
    "    window_after1 = browser.window_handles[2]\n",
    "    browser.switch_to_window(window_after1)\n",
    "    clickontopbutton = browser.find_element_by_id(\"search_formTabsSearch\")\n",
    "    clickontopbutton.click()\n",
    "    clickontopbutton.send_keys(Keys.ARROW_DOWN,Keys.ENTER)\n",
    "    #fills in the bare bones of a form to generate a form\n",
    "    #input File reviewer\n",
    "    time.sleep(5)\n",
    "    fillinvalues(chargecode)\n",
    "#function to look through uploaded cvs file, and find the corresponding FA number for those sites\n",
    "\n",
    "array_chargecode_excel=[]\n",
    "def getChargeCodeGivenFA (fa):\n",
    "    array_chargecode_excel.clear()\n",
    "    for j in range (0,len(df1)):\n",
    "        if (df1['S:FA Number'][j]== fa):\n",
    "            array_chargecode_excel.append((df1['P:Project Key (Charge Code or PACE ID)'][j]))                                               "
   ]
  },
  {
   "cell_type": "code",
   "execution_count": 3,
   "metadata": {},
   "outputs": [],
   "source": [
    "login()"
   ]
  },
  {
   "cell_type": "code",
   "execution_count": 5,
   "metadata": {},
   "outputs": [
    {
     "ename": "WebDriverException",
     "evalue": "Message: element click intercepted: Element <input id=\"btnEdit10\" class=\"btn_input btn_label disabled\" type=\"button\" value=\"Edit\" title=\"\" disabled=\"\"> is not clickable at point (607, 63). Other element would receive the click: <div id=\"rightPanel10\" class=\"component buttons_panel right_panel\">...</div>\n  (Session info: chrome=91.0.4472.164)\n",
     "output_type": "error",
     "traceback": [
      "\u001b[0;31m---------------------------------------------------------------------------\u001b[0m",
      "\u001b[0;31mWebDriverException\u001b[0m                        Traceback (most recent call last)",
      "\u001b[0;32m<ipython-input-5-fb218f23f1c4>\u001b[0m in \u001b[0;36m<module>\u001b[0;34m\u001b[0m\n\u001b[1;32m      6\u001b[0m     \u001b[0mChargeCodeEnter\u001b[0m\u001b[0;34m(\u001b[0m\u001b[0;34m)\u001b[0m\u001b[0;34m\u001b[0m\u001b[0;34m\u001b[0m\u001b[0m\n\u001b[1;32m      7\u001b[0m     \u001b[0mtime\u001b[0m\u001b[0;34m.\u001b[0m\u001b[0msleep\u001b[0m\u001b[0;34m(\u001b[0m\u001b[0;36m7\u001b[0m\u001b[0;34m)\u001b[0m\u001b[0;34m\u001b[0m\u001b[0;34m\u001b[0m\u001b[0m\n\u001b[0;32m----> 8\u001b[0;31m     \u001b[0mfillInTopofFormTab\u001b[0m\u001b[0;34m(\u001b[0m\u001b[0mx\u001b[0m\u001b[0;34m)\u001b[0m\u001b[0;34m\u001b[0m\u001b[0;34m\u001b[0m\u001b[0m\n\u001b[0m",
      "\u001b[0;32m<ipython-input-2-548602ce858e>\u001b[0m in \u001b[0;36mfillInTopofFormTab\u001b[0;34m(chargecode)\u001b[0m\n\u001b[1;32m    240\u001b[0m     \u001b[0mtime\u001b[0m\u001b[0;34m.\u001b[0m\u001b[0msleep\u001b[0m\u001b[0;34m(\u001b[0m\u001b[0;36m7\u001b[0m\u001b[0;34m)\u001b[0m\u001b[0;34m\u001b[0m\u001b[0;34m\u001b[0m\u001b[0m\n\u001b[1;32m    241\u001b[0m     \u001b[0meditform\u001b[0m \u001b[0;34m=\u001b[0m \u001b[0mbrowser\u001b[0m\u001b[0;34m.\u001b[0m\u001b[0mfind_element_by_id\u001b[0m\u001b[0;34m(\u001b[0m\u001b[0;34m\"btnEdit10\"\u001b[0m\u001b[0;34m)\u001b[0m\u001b[0;34m\u001b[0m\u001b[0;34m\u001b[0m\u001b[0m\n\u001b[0;32m--> 242\u001b[0;31m     \u001b[0meditform\u001b[0m\u001b[0;34m.\u001b[0m\u001b[0mclick\u001b[0m\u001b[0;34m(\u001b[0m\u001b[0;34m)\u001b[0m\u001b[0;34m\u001b[0m\u001b[0;34m\u001b[0m\u001b[0m\n\u001b[0m\u001b[1;32m    243\u001b[0m             \u001b[0;31m#opening the form to edit\u001b[0m\u001b[0;34m\u001b[0m\u001b[0;34m\u001b[0m\u001b[0;34m\u001b[0m\u001b[0m\n\u001b[1;32m    244\u001b[0m     \u001b[0mwindow_after1\u001b[0m \u001b[0;34m=\u001b[0m \u001b[0mbrowser\u001b[0m\u001b[0;34m.\u001b[0m\u001b[0mwindow_handles\u001b[0m\u001b[0;34m[\u001b[0m\u001b[0;36m2\u001b[0m\u001b[0;34m]\u001b[0m\u001b[0;34m\u001b[0m\u001b[0;34m\u001b[0m\u001b[0m\n",
      "\u001b[0;32m~/.local/lib/python3.7/site-packages/selenium/webdriver/remote/webelement.py\u001b[0m in \u001b[0;36mclick\u001b[0;34m(self)\u001b[0m\n\u001b[1;32m     76\u001b[0m     \u001b[0;32mdef\u001b[0m \u001b[0mclick\u001b[0m\u001b[0;34m(\u001b[0m\u001b[0mself\u001b[0m\u001b[0;34m)\u001b[0m\u001b[0;34m:\u001b[0m\u001b[0;34m\u001b[0m\u001b[0;34m\u001b[0m\u001b[0m\n\u001b[1;32m     77\u001b[0m         \u001b[0;34m\"\"\"Clicks the element.\"\"\"\u001b[0m\u001b[0;34m\u001b[0m\u001b[0;34m\u001b[0m\u001b[0m\n\u001b[0;32m---> 78\u001b[0;31m         \u001b[0mself\u001b[0m\u001b[0;34m.\u001b[0m\u001b[0m_execute\u001b[0m\u001b[0;34m(\u001b[0m\u001b[0mCommand\u001b[0m\u001b[0;34m.\u001b[0m\u001b[0mCLICK_ELEMENT\u001b[0m\u001b[0;34m)\u001b[0m\u001b[0;34m\u001b[0m\u001b[0;34m\u001b[0m\u001b[0m\n\u001b[0m\u001b[1;32m     79\u001b[0m \u001b[0;34m\u001b[0m\u001b[0m\n\u001b[1;32m     80\u001b[0m     \u001b[0;32mdef\u001b[0m \u001b[0msubmit\u001b[0m\u001b[0;34m(\u001b[0m\u001b[0mself\u001b[0m\u001b[0;34m)\u001b[0m\u001b[0;34m:\u001b[0m\u001b[0;34m\u001b[0m\u001b[0;34m\u001b[0m\u001b[0m\n",
      "\u001b[0;32m~/.local/lib/python3.7/site-packages/selenium/webdriver/remote/webelement.py\u001b[0m in \u001b[0;36m_execute\u001b[0;34m(self, command, params)\u001b[0m\n\u001b[1;32m    497\u001b[0m             \u001b[0mparams\u001b[0m \u001b[0;34m=\u001b[0m \u001b[0;34m{\u001b[0m\u001b[0;34m}\u001b[0m\u001b[0;34m\u001b[0m\u001b[0;34m\u001b[0m\u001b[0m\n\u001b[1;32m    498\u001b[0m         \u001b[0mparams\u001b[0m\u001b[0;34m[\u001b[0m\u001b[0;34m'id'\u001b[0m\u001b[0;34m]\u001b[0m \u001b[0;34m=\u001b[0m \u001b[0mself\u001b[0m\u001b[0;34m.\u001b[0m\u001b[0m_id\u001b[0m\u001b[0;34m\u001b[0m\u001b[0;34m\u001b[0m\u001b[0m\n\u001b[0;32m--> 499\u001b[0;31m         \u001b[0;32mreturn\u001b[0m \u001b[0mself\u001b[0m\u001b[0;34m.\u001b[0m\u001b[0m_parent\u001b[0m\u001b[0;34m.\u001b[0m\u001b[0mexecute\u001b[0m\u001b[0;34m(\u001b[0m\u001b[0mcommand\u001b[0m\u001b[0;34m,\u001b[0m \u001b[0mparams\u001b[0m\u001b[0;34m)\u001b[0m\u001b[0;34m\u001b[0m\u001b[0;34m\u001b[0m\u001b[0m\n\u001b[0m\u001b[1;32m    500\u001b[0m \u001b[0;34m\u001b[0m\u001b[0m\n\u001b[1;32m    501\u001b[0m     \u001b[0;32mdef\u001b[0m \u001b[0mfind_element\u001b[0m\u001b[0;34m(\u001b[0m\u001b[0mself\u001b[0m\u001b[0;34m,\u001b[0m \u001b[0mby\u001b[0m\u001b[0;34m=\u001b[0m\u001b[0mBy\u001b[0m\u001b[0;34m.\u001b[0m\u001b[0mID\u001b[0m\u001b[0;34m,\u001b[0m \u001b[0mvalue\u001b[0m\u001b[0;34m=\u001b[0m\u001b[0;32mNone\u001b[0m\u001b[0;34m)\u001b[0m\u001b[0;34m:\u001b[0m\u001b[0;34m\u001b[0m\u001b[0;34m\u001b[0m\u001b[0m\n",
      "\u001b[0;32m~/.local/lib/python3.7/site-packages/selenium/webdriver/remote/webdriver.py\u001b[0m in \u001b[0;36mexecute\u001b[0;34m(self, driver_command, params)\u001b[0m\n\u001b[1;32m    295\u001b[0m         \u001b[0mresponse\u001b[0m \u001b[0;34m=\u001b[0m \u001b[0mself\u001b[0m\u001b[0;34m.\u001b[0m\u001b[0mcommand_executor\u001b[0m\u001b[0;34m.\u001b[0m\u001b[0mexecute\u001b[0m\u001b[0;34m(\u001b[0m\u001b[0mdriver_command\u001b[0m\u001b[0;34m,\u001b[0m \u001b[0mparams\u001b[0m\u001b[0;34m)\u001b[0m\u001b[0;34m\u001b[0m\u001b[0;34m\u001b[0m\u001b[0m\n\u001b[1;32m    296\u001b[0m         \u001b[0;32mif\u001b[0m \u001b[0mresponse\u001b[0m\u001b[0;34m:\u001b[0m\u001b[0;34m\u001b[0m\u001b[0;34m\u001b[0m\u001b[0m\n\u001b[0;32m--> 297\u001b[0;31m             \u001b[0mself\u001b[0m\u001b[0;34m.\u001b[0m\u001b[0merror_handler\u001b[0m\u001b[0;34m.\u001b[0m\u001b[0mcheck_response\u001b[0m\u001b[0;34m(\u001b[0m\u001b[0mresponse\u001b[0m\u001b[0;34m)\u001b[0m\u001b[0;34m\u001b[0m\u001b[0;34m\u001b[0m\u001b[0m\n\u001b[0m\u001b[1;32m    298\u001b[0m             response['value'] = self._unwrap_value(\n\u001b[1;32m    299\u001b[0m                 response.get('value', None))\n",
      "\u001b[0;32m~/.local/lib/python3.7/site-packages/selenium/webdriver/remote/errorhandler.py\u001b[0m in \u001b[0;36mcheck_response\u001b[0;34m(self, response)\u001b[0m\n\u001b[1;32m    192\u001b[0m         \u001b[0;32melif\u001b[0m \u001b[0mexception_class\u001b[0m \u001b[0;34m==\u001b[0m \u001b[0mUnexpectedAlertPresentException\u001b[0m \u001b[0;32mand\u001b[0m \u001b[0;34m'alert'\u001b[0m \u001b[0;32min\u001b[0m \u001b[0mvalue\u001b[0m\u001b[0;34m:\u001b[0m\u001b[0;34m\u001b[0m\u001b[0;34m\u001b[0m\u001b[0m\n\u001b[1;32m    193\u001b[0m             \u001b[0;32mraise\u001b[0m \u001b[0mexception_class\u001b[0m\u001b[0;34m(\u001b[0m\u001b[0mmessage\u001b[0m\u001b[0;34m,\u001b[0m \u001b[0mscreen\u001b[0m\u001b[0;34m,\u001b[0m \u001b[0mstacktrace\u001b[0m\u001b[0;34m,\u001b[0m \u001b[0mvalue\u001b[0m\u001b[0;34m[\u001b[0m\u001b[0;34m'alert'\u001b[0m\u001b[0;34m]\u001b[0m\u001b[0;34m.\u001b[0m\u001b[0mget\u001b[0m\u001b[0;34m(\u001b[0m\u001b[0;34m'text'\u001b[0m\u001b[0;34m)\u001b[0m\u001b[0;34m)\u001b[0m\u001b[0;34m\u001b[0m\u001b[0;34m\u001b[0m\u001b[0m\n\u001b[0;32m--> 194\u001b[0;31m         \u001b[0;32mraise\u001b[0m \u001b[0mexception_class\u001b[0m\u001b[0;34m(\u001b[0m\u001b[0mmessage\u001b[0m\u001b[0;34m,\u001b[0m \u001b[0mscreen\u001b[0m\u001b[0;34m,\u001b[0m \u001b[0mstacktrace\u001b[0m\u001b[0;34m)\u001b[0m\u001b[0;34m\u001b[0m\u001b[0;34m\u001b[0m\u001b[0m\n\u001b[0m\u001b[1;32m    195\u001b[0m \u001b[0;34m\u001b[0m\u001b[0m\n\u001b[1;32m    196\u001b[0m     \u001b[0;32mdef\u001b[0m \u001b[0m_value_or_default\u001b[0m\u001b[0;34m(\u001b[0m\u001b[0mself\u001b[0m\u001b[0;34m,\u001b[0m \u001b[0mobj\u001b[0m\u001b[0;34m,\u001b[0m \u001b[0mkey\u001b[0m\u001b[0;34m,\u001b[0m \u001b[0mdefault\u001b[0m\u001b[0;34m)\u001b[0m\u001b[0;34m:\u001b[0m\u001b[0;34m\u001b[0m\u001b[0;34m\u001b[0m\u001b[0m\n",
      "\u001b[0;31mWebDriverException\u001b[0m: Message: element click intercepted: Element <input id=\"btnEdit10\" class=\"btn_input btn_label disabled\" type=\"button\" value=\"Edit\" title=\"\" disabled=\"\"> is not clickable at point (607, 63). Other element would receive the click: <div id=\"rightPanel10\" class=\"component buttons_panel right_panel\">...</div>\n  (Session info: chrome=91.0.4472.164)\n"
     ]
    }
   ],
   "source": [
    "for i in range (7,len(sites_list_july23['FA #'])):\n",
    "    getChargeCodeGivenFA(sites_list_july23['FA #'][i])\n",
    "    x=array_chargecode_excel[0]\n",
    "    searchByChargeCode(x)\n",
    "    time.sleep(7)\n",
    "    ChargeCodeEnter()\n",
    "    time.sleep(7)\n",
    "    fillInTopofFormTab(x)"
   ]
  },
  {
   "cell_type": "code",
   "execution_count": 18,
   "metadata": {},
   "outputs": [],
   "source": [
    "getChargeCodeGivenFA(sites_list_july23['FA #'][7])\n",
    "x=array_chargecode_excel[0]\n",
    "searchByChargeCode(x)"
   ]
  },
  {
   "cell_type": "code",
   "execution_count": 21,
   "metadata": {},
   "outputs": [],
   "source": [
    "ChargeCodeEnter()"
   ]
  },
  {
   "cell_type": "code",
   "execution_count": 22,
   "metadata": {},
   "outputs": [],
   "source": [
    "CreateInFormTab(x)"
   ]
  },
  {
   "cell_type": "code",
   "execution_count": 27,
   "metadata": {},
   "outputs": [
    {
     "data": {
      "text/plain": [
       "['521517-S00542']"
      ]
     },
     "execution_count": 27,
     "metadata": {},
     "output_type": "execute_result"
    }
   ],
   "source": []
  },
  {
   "cell_type": "code",
   "execution_count": 83,
   "metadata": {},
   "outputs": [
    {
     "data": {
      "text/plain": [
       "17"
      ]
     },
     "execution_count": 83,
     "metadata": {},
     "output_type": "execute_result"
    }
   ],
   "source": []
  },
  {
   "cell_type": "code",
   "execution_count": 40,
   "metadata": {},
   "outputs": [],
   "source": []
  },
  {
   "cell_type": "code",
   "execution_count": 41,
   "metadata": {},
   "outputs": [],
   "source": []
  },
  {
   "cell_type": "code",
   "execution_count": 42,
   "metadata": {},
   "outputs": [
    {
     "data": {
      "text/plain": [
       "[]"
      ]
     },
     "execution_count": 42,
     "metadata": {},
     "output_type": "execute_result"
    }
   ],
   "source": []
  },
  {
   "cell_type": "code",
   "execution_count": 93,
   "metadata": {},
   "outputs": [
    {
     "data": {
      "text/plain": [
       "'BAKERSFIELD , CA 93307.0'"
      ]
     },
     "execution_count": 93,
     "metadata": {},
     "output_type": "execute_result"
    }
   ],
   "source": []
  },
  {
   "cell_type": "code",
   "execution_count": 85,
   "metadata": {},
   "outputs": [],
   "source": []
  },
  {
   "cell_type": "code",
   "execution_count": 88,
   "metadata": {},
   "outputs": [],
   "source": []
  },
  {
   "cell_type": "code",
   "execution_count": 89,
   "metadata": {},
   "outputs": [
    {
     "data": {
      "text/plain": [
       "['521517-S00389']"
      ]
     },
     "execution_count": 89,
     "metadata": {},
     "output_type": "execute_result"
    }
   ],
   "source": []
  },
  {
   "cell_type": "code",
   "execution_count": null,
   "metadata": {},
   "outputs": [],
   "source": []
  }
 ],
 "metadata": {
  "kernelspec": {
   "display_name": "Python 3",
   "language": "python",
   "name": "python3"
  },
  "language_info": {
   "codemirror_mode": {
    "name": "ipython",
    "version": 3
   },
   "file_extension": ".py",
   "mimetype": "text/x-python",
   "name": "python",
   "nbconvert_exporter": "python",
   "pygments_lexer": "ipython3",
   "version": "3.7.3"
  }
 },
 "nbformat": 4,
 "nbformat_minor": 2
}
